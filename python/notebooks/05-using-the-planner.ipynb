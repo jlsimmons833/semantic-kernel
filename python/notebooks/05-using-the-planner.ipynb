{
 "cells": [
  {
   "cell_type": "markdown",
   "id": "99a80181",
   "metadata": {},
   "source": [
    "# Introduction to the Planner\n",
    "\n",
    "The Planner is one of the fundamental concepts of the Semantic Kernel.\n",
    "\n",
    "It makes use of the collection of native and semantic functions that have been registered to the kernel and using AI, will formulate a plan to execute the given ask.\n",
    "\n",
    "From our own testing, planner works best with more powerful models like `gpt4` but sometimes you might get working plans with cheaper models like `gpt-35-turbo`. We encourage you to implement your own versions of the planner and use different models that fit your user needs.  \n",
    "\n",
    "Read more about planner [here](https://aka.ms/sk/concepts/planner)"
   ]
  },
  {
   "cell_type": "code",
   "execution_count": 1,
   "id": "07eb35d2",
   "metadata": {},
   "outputs": [],
   "source": [
    "#!python -m pip install semantic-kernel==0.3.10.dev0"
   ]
  },
  {
   "cell_type": "code",
   "execution_count": 3,
   "id": "11e59885",
   "metadata": {},
   "outputs": [],
   "source": [
    "import semantic_kernel as sk\n",
    "from semantic_kernel.connectors.ai.open_ai import OpenAIChatCompletion, AzureChatCompletion\n",
    "\n",
    "kernel = sk.Kernel()\n",
    "\n",
    "useAzureOpenAI = False\n",
    "\n",
    "# Configure AI backend used by the kernel\n",
    "if useAzureOpenAI:\n",
    "    \n",
    "    deployment, api_key, endpoint = sk.azure_openai_settings_from_dot_env()\n",
    "    kernel.add_chat_service(\"gpt-3.5\", AzureChatCompletion(\"gpt-35-turbo\", endpoint, api_key))\n",
    "else:\n",
    "    api_key, org_id = sk.openai_settings_from_dot_env()\n",
    "    kernel.add_chat_service(\"gpt-3.5\", OpenAIChatCompletion(\"gpt-3.5-turbo\", api_key, org_id))"
   ]
  },
  {
   "cell_type": "markdown",
   "id": "4ff28070",
   "metadata": {},
   "source": [
    "## It all begins with an ask"
   ]
  },
  {
   "cell_type": "code",
   "execution_count": 7,
   "id": "93bc6103",
   "metadata": {},
   "outputs": [],
   "source": [
    "ask = \"\"\"\n",
    "Tomorrow is Valentine's day. I need to come up with a few date ideas. She speaks French so write it in French.\n",
    "Convert the text to uppercase\"\"\""
   ]
  },
  {
   "cell_type": "markdown",
   "id": "a5d86739",
   "metadata": {},
   "source": [
    "### Providing skills to the planner\n",
    "The planner needs to know what skills are available to it. Here we'll give it access to the `SummarizeSkill` and `WriterSkill` we have defined on disk. This will include many semantic functions, of which the planner will intelligently choose a subset. \n",
    "\n",
    "You can also include native functions as well. Here we'll add the TextSkill."
   ]
  },
  {
   "cell_type": "code",
   "execution_count": 4,
   "id": "ca0e7604",
   "metadata": {},
   "outputs": [],
   "source": [
    "from semantic_kernel.core_skills.text_skill import TextSkill\n",
    "\n",
    "skills_directory = \"../../samples/skills/\"\n",
    "summarize_skill = kernel.import_semantic_skill_from_directory(skills_directory, \"SummarizeSkill\")\n",
    "writer_skill = kernel.import_semantic_skill_from_directory(skills_directory, \"WriterSkill\")\n",
    "text_skill = kernel.import_skill(TextSkill(), \"TextSkill\")"
   ]
  },
  {
   "cell_type": "markdown",
   "id": "deff5675",
   "metadata": {},
   "source": [
    "Define your ASK. What do you want the Kernel to do?"
   ]
  },
  {
   "cell_type": "markdown",
   "id": "eee6fe7b",
   "metadata": {},
   "source": [
    "# Basic Planner"
   ]
  },
  {
   "cell_type": "markdown",
   "id": "590a22f2",
   "metadata": {},
   "source": [
    " Let's start by taking a look at a basic planner. The `BasicPlanner` produces a JSON-based plan that aims to solve the provided ask sequentially and evaluated in order."
   ]
  },
  {
   "cell_type": "code",
   "execution_count": 5,
   "id": "20d35ed0",
   "metadata": {},
   "outputs": [],
   "source": [
    "from semantic_kernel.planning.basic_planner import BasicPlanner\n",
    "planner = BasicPlanner()"
   ]
  },
  {
   "cell_type": "code",
   "execution_count": 8,
   "id": "d5697c09",
   "metadata": {},
   "outputs": [],
   "source": [
    "basic_plan = await planner.create_plan_async(ask, kernel)"
   ]
  },
  {
   "cell_type": "code",
   "execution_count": 9,
   "id": "b425ba1e",
   "metadata": {},
   "outputs": [
    {
     "name": "stdout",
     "output_type": "stream",
     "text": [
      "{\n",
      "    \"input\": \"Valentine's Day Date Ideas\",\n",
      "    \"subtasks\": [\n",
      "        {\"function\": \"WriterSkill.Brainstorm\"},\n",
      "        {\"function\": \"WriterSkill.EmailTo\", \"args\": {\"recipient\": \"significant_other\"}},\n",
      "        {\"function\": \"WriterSkill.Translate\", \"args\": {\"language\": \"French\"}},\n",
      "        {\"function\": \"TextSkill.uppercase\"}\n",
      "    ]\n",
      "}\n"
     ]
    }
   ],
   "source": [
    "print(basic_plan.generated_plan)"
   ]
  },
  {
   "cell_type": "markdown",
   "id": "0f3a48f8",
   "metadata": {},
   "source": [
    "You can see that the Planner took my ask and converted it into an JSON-based plan detailing how the AI would go about solving this task, making use of the skills that the Kernel has available to it.\n",
    "\n",
    "As you can see in the above plan, the AI has determined which functions to call in order to fulfill the user ask. The output of each step of the plan becomes the input to the next function."
   ]
  },
  {
   "cell_type": "markdown",
   "id": "cd4df0c2",
   "metadata": {},
   "source": [
    "Let's also define an inline skill and have it be available to the Planner. Be sure to give it a function name and skill name."
   ]
  },
  {
   "cell_type": "code",
   "execution_count": 10,
   "id": "54422ba6",
   "metadata": {},
   "outputs": [],
   "source": [
    "sk_prompt = \"\"\"\n",
    "{{$input}}\n",
    "\n",
    "Rewrite the above in the style of Shakespeare.\n",
    "\"\"\"\n",
    "shakespeareFunction = kernel.create_semantic_function(sk_prompt, \"shakespeare\", \"ShakespeareSkill\",\n",
    "                                                      max_tokens=2000, temperature=0.8)"
   ]
  },
  {
   "cell_type": "markdown",
   "id": "5057cf9b",
   "metadata": {},
   "source": [
    "Let's update our ask using this new skill"
   ]
  },
  {
   "cell_type": "code",
   "execution_count": 20,
   "id": "a3161dcf",
   "metadata": {},
   "outputs": [
    {
     "ename": "TypeError",
     "evalue": "SequentialPlanner.create_plan_async() takes 2 positional arguments but 3 were given",
     "output_type": "error",
     "traceback": [
      "\u001b[1;31m---------------------------------------------------------------------------\u001b[0m",
      "\u001b[1;31mTypeError\u001b[0m                                 Traceback (most recent call last)",
      "\u001b[1;32mc:\\Users\\jlsim\\OneDrive\\Documents\\codingfolder\\semantic-kernel\\python\\notebooks\\05-using-the-planner.ipynb Cell 18\u001b[0m line \u001b[0;36m6\n\u001b[0;32m      <a href='vscode-notebook-cell:/c%3A/Users/jlsim/OneDrive/Documents/codingfolder/semantic-kernel/python/notebooks/05-using-the-planner.ipynb#X23sZmlsZQ%3D%3D?line=0'>1</a>\u001b[0m ask \u001b[39m=\u001b[39m \u001b[39m\"\"\"\u001b[39m\n\u001b[0;32m      <a href='vscode-notebook-cell:/c%3A/Users/jlsim/OneDrive/Documents/codingfolder/semantic-kernel/python/notebooks/05-using-the-planner.ipynb#X23sZmlsZQ%3D%3D?line=1'>2</a>\u001b[0m \u001b[39mTomorrow is Valentine\u001b[39m\u001b[39m'\u001b[39m\u001b[39ms day. I need to come up with a few date ideas.\u001b[39m\n\u001b[0;32m      <a href='vscode-notebook-cell:/c%3A/Users/jlsim/OneDrive/Documents/codingfolder/semantic-kernel/python/notebooks/05-using-the-planner.ipynb#X23sZmlsZQ%3D%3D?line=2'>3</a>\u001b[0m \u001b[39mShe likes Shakespeare so write using his style. She speaks French so write it in French.\u001b[39m\n\u001b[0;32m      <a href='vscode-notebook-cell:/c%3A/Users/jlsim/OneDrive/Documents/codingfolder/semantic-kernel/python/notebooks/05-using-the-planner.ipynb#X23sZmlsZQ%3D%3D?line=3'>4</a>\u001b[0m \u001b[39mConvert the text to uppercase.\u001b[39m\u001b[39m\"\"\"\u001b[39m\n\u001b[1;32m----> <a href='vscode-notebook-cell:/c%3A/Users/jlsim/OneDrive/Documents/codingfolder/semantic-kernel/python/notebooks/05-using-the-planner.ipynb#X23sZmlsZQ%3D%3D?line=5'>6</a>\u001b[0m new_plan \u001b[39m=\u001b[39m \u001b[39mawait\u001b[39;00m planner\u001b[39m.\u001b[39;49mcreate_plan_async(ask, kernel)\n",
      "\u001b[1;31mTypeError\u001b[0m: SequentialPlanner.create_plan_async() takes 2 positional arguments but 3 were given"
     ]
    }
   ],
   "source": [
    "ask = \"\"\"\n",
    "Tomorrow is Valentine's day. I need to come up with a few date ideas.\n",
    "She likes Shakespeare so write using his style. She speaks French so write it in French.\n",
    "Convert the text to uppercase.\"\"\"\n",
    "\n",
    "new_plan = await planner.create_plan_async(ask, kernel)"
   ]
  },
  {
   "cell_type": "code",
   "execution_count": 12,
   "id": "997462e8",
   "metadata": {},
   "outputs": [
    {
     "name": "stdout",
     "output_type": "stream",
     "text": [
      "{\n",
      "    \"input\": \"Valentine's Day Date Ideas\",\n",
      "    \"subtasks\": [\n",
      "        {\"function\": \"WriterSkill.Brainstorm\"},\n",
      "        {\"function\": \"ShakespeareSkill.shakespeare\"},\n",
      "        {\"function\": \"WriterSkill.EmailTo\", \"args\": {\"recipient\": \"significant_other\"}},\n",
      "        {\"function\": \"WriterSkill.Translate\", \"args\": {\"language\": \"French\"}},\n",
      "        {\"function\": \"TextSkill.uppercase\"}\n",
      "    ]\n",
      "}\n"
     ]
    }
   ],
   "source": [
    "print(new_plan.generated_plan)"
   ]
  },
  {
   "cell_type": "markdown",
   "id": "b67a052e",
   "metadata": {},
   "source": [
    "### Executing the plan"
   ]
  },
  {
   "cell_type": "markdown",
   "id": "3b839c90",
   "metadata": {},
   "source": [
    "Now that we have a plan, let's try to execute it! The Planner has a function called `execute_plan`."
   ]
  },
  {
   "cell_type": "code",
   "execution_count": 13,
   "id": "9384831a",
   "metadata": {},
   "outputs": [],
   "source": [
    "results = await planner.execute_plan_async(new_plan, kernel)"
   ]
  },
  {
   "cell_type": "code",
   "execution_count": 14,
   "id": "9192b186",
   "metadata": {},
   "outputs": [
    {
     "name": "stdout",
     "output_type": "stream",
     "text": [
      "ASSUREZ-VOUS DE N'UTILISER QUE LE FRANÇAIS.\n",
      "\n",
      "BONJOUR,\n",
      "\n",
      "J'ESPÈRE QUE CET EMAIL VOUS TROUVE EN BONNE SANTÉ. JE VOULAIS PARTAGER AVEC VOUS QUELQUES IDÉES D'ACTIVITÉS QUE NOUS POUVONS APPRÉCIER ENSEMBLE.\n",
      "\n",
      "1. QUE DIRIEZ-VOUS D'UN FESTIN ROMANTIQUE AUX CHANDELLES DANS LE CONFORT DE NOTRE FOYER ? NOUS POUVONS CRÉER UNE ATMOSPHÈRE CHALEUREUSE AVEC LA DOUCE LUEUR DES FLAMMES LUMINEUSES ET LAISSER NOS CŒURS S'ENFLAMMER ET NOS ÂMES S'ENTRELACER.\n",
      "\n",
      "2. UNE AUTRE OPTION SERAIT DE FAIRE UN PIQUE-NIQUE DANS LE MAGNIFIQUE PARC. NOUS POURRIONS NOUS DÉTENDRE SUR UN TAPIS VERDOYANT ET NOUS RÉGALER DE METS DIGNES DES DIEUX, TOUT EN PROFITANT DE L'ÉTREINTE CHALEUREUSE DU SOLEIL.\n",
      "\n",
      "3. SI VOUS PRÉFÉREZ ÊTRE CHOYÉ, NOUS POURRIONS NOUS ABANDONNER AUX CARESSES TENDRES DE MAINS EXPERTES DANS UN SANCTUAIRE BÉNI. NOUS POURRIONS ÊTRE PARÉS D'HUILES PARFUMÉES ET D'ÉLIXIRS APAISANTS, NOUS PERMETTANT DE VRAIMENT NOUS DÉTENDRE ET DE NOUS RESSOURCER.\n",
      "\n",
      "4. QUE DIRIEZ-VOUS D'UNE VISITE AU VIGNOBLE ? NOUS POURRIONS PARTIR MAIN DANS LA MAIN ET DÉGUSTER LE DIVIN ET DOUX NECTAR DE BACCHUS. À CHAQUE GORGÉE, NOS ESPRITS S'ÉLÈVERONT ET NOUS POURRONS NOUS DÉLECTER DE L'IVRESSE DE L'ÉLIXIR DE L'AMOUR.\n",
      "\n",
      "5. SI VOUS ÊTES PARTANT POUR UNE AVENTURE CULINAIRE, NOUS POURRIONS PRENDRE UN COURS DE CUISINE ENSEMBLE. DANS UNE CUISINE ORNÉE D'ÉPICES ET DE DÉLICES, NOUS POURRIONS APPRENDRE LES SECRETS DE LA GASTRONOMIE FRANÇAISE ET NOUS RÉGALER DE PLATS EXQUIS.\n",
      "\n",
      "J'ESPÈRE QUE CES IDÉES VOUS PLAISENT ET QUE NOUS POURRONS BIENTÔT LES RÉALISER ENSEMBLE.\n",
      "\n",
      "CORDIALEMENT,\n"
     ]
    }
   ],
   "source": [
    "print(results)"
   ]
  },
  {
   "cell_type": "markdown",
   "id": "e8a9b6b7",
   "metadata": {},
   "source": [
    "# The Plan Object Model"
   ]
  },
  {
   "cell_type": "markdown",
   "id": "e50f8859",
   "metadata": {},
   "source": [
    "To build more advanced planners, we need to introduce a proper Plan object that can contain all the necessary state and information needed for high quality plans.\n",
    "\n",
    "To see what that object model is, look at (https://github.com/microsoft/semantic-kernel/blob/main/python/semantic_kernel/planning/plan.py)"
   ]
  },
  {
   "cell_type": "markdown",
   "id": "0a0cb2a2",
   "metadata": {},
   "source": [
    "# Sequential Planner"
   ]
  },
  {
   "cell_type": "markdown",
   "id": "a1c66d83",
   "metadata": {},
   "source": [
    "The sequential planner is an XML-based step-by-step planner. You can see the prompt used for it here (https://github.com/microsoft/semantic-kernel/blob/main/python/semantic_kernel/planning/sequential_planner/Skills/SequentialPlanning/skprompt.txt)"
   ]
  },
  {
   "cell_type": "code",
   "execution_count": 15,
   "id": "e2e90624",
   "metadata": {},
   "outputs": [],
   "source": [
    "from semantic_kernel.planning import SequentialPlanner\n",
    "planner = SequentialPlanner(kernel)"
   ]
  },
  {
   "cell_type": "code",
   "execution_count": 21,
   "id": "0d537981",
   "metadata": {},
   "outputs": [
    {
     "name": "stdout",
     "output_type": "stream",
     "text": [
      "\n",
      "Tomorrow is Valentine's day. I need to come up with a few date ideas.\n",
      "She likes Shakespeare so write using his style. She speaks French so write it in French.\n",
      "Convert the text to uppercase.\n"
     ]
    }
   ],
   "source": [
    "print(ask)\n",
    "sequential_plan = await planner.create_plan_async(goal=ask)"
   ]
  },
  {
   "cell_type": "markdown",
   "id": "ee2f462b",
   "metadata": {},
   "source": [
    "To see the steps that the Sequential Planner will take, we can iterate over them and print their descriptions"
   ]
  },
  {
   "cell_type": "code",
   "execution_count": 22,
   "id": "e7007418",
   "metadata": {},
   "outputs": [
    {
     "name": "stdout",
     "output_type": "stream",
     "text": [
      "Given a goal or topic description generate a list of ideas : {'variables': {'input': ''}}\n",
      "Turn a scenario into a short and entertaining poem. : {'variables': {'input': ''}}\n",
      "Generate a list of synopsis for a novel or novella with sub-chapters : {'variables': {'input': ''}}\n",
      "Translate the input into a language of your choice : {'variables': {'input': ''}}\n",
      "Generate an acronym for the given concept or phrase : {'variables': {'input': ''}}\n",
      "Generate an acronym for the given concept or phrase : {'variables': {'input': ''}}\n",
      "Generate an acronym for the given concept or phrase : {'variables': {'input': ''}}\n",
      "Generate an acronym for the given concept or phrase : {'variables': {'input': ''}}\n",
      "Convert a string to uppercase. : {'variables': {'input': ''}}\n"
     ]
    }
   ],
   "source": [
    "for step in sequential_plan._steps:\n",
    "    print(step.description, \":\", step._state.__dict__)"
   ]
  },
  {
   "cell_type": "markdown",
   "id": "4db5f844",
   "metadata": {},
   "source": [
    "Let's ask the sequential planner to execute the plan."
   ]
  },
  {
   "cell_type": "code",
   "execution_count": 23,
   "id": "88411884",
   "metadata": {},
   "outputs": [],
   "source": [
    "result = await sequential_plan.invoke_async()"
   ]
  },
  {
   "cell_type": "code",
   "execution_count": 19,
   "id": "36d27aa0",
   "metadata": {},
   "outputs": [
    {
     "name": "stdout",
     "output_type": "stream",
     "text": [
      "Ideas for dates.\n"
     ]
    }
   ],
   "source": [
    "print(result)"
   ]
  },
  {
   "cell_type": "markdown",
   "id": "d6487c75",
   "metadata": {},
   "source": [
    "# Action Planner"
   ]
  },
  {
   "cell_type": "markdown",
   "id": "b045e26b",
   "metadata": {},
   "source": [
    "The action planner takes in a list of functions and the goal, and outputs a **single** function to use that is appropriate to meet that goal."
   ]
  },
  {
   "cell_type": "code",
   "execution_count": 24,
   "id": "5bfc0b9f",
   "metadata": {},
   "outputs": [],
   "source": [
    "from semantic_kernel.planning import ActionPlanner\n",
    "planner = ActionPlanner(kernel)"
   ]
  },
  {
   "cell_type": "markdown",
   "id": "53b1f296",
   "metadata": {},
   "source": [
    "Let's add more skills to the kernel"
   ]
  },
  {
   "cell_type": "code",
   "execution_count": 25,
   "id": "cc12642a",
   "metadata": {},
   "outputs": [
    {
     "data": {
      "text/plain": [
       "{'lowercase': <semantic_kernel.orchestration.sk_function.SKFunction at 0x1e858557950>,\n",
       " 'trim': <semantic_kernel.orchestration.sk_function.SKFunction at 0x1e858556490>,\n",
       " 'trim_end': <semantic_kernel.orchestration.sk_function.SKFunction at 0x1e8585568d0>,\n",
       " 'trim_start': <semantic_kernel.orchestration.sk_function.SKFunction at 0x1e858557890>,\n",
       " 'uppercase': <semantic_kernel.orchestration.sk_function.SKFunction at 0x1e858556350>}"
      ]
     },
     "execution_count": 25,
     "metadata": {},
     "output_type": "execute_result"
    }
   ],
   "source": [
    "from semantic_kernel.core_skills import FileIOSkill, MathSkill, TextSkill, TimeSkill\n",
    "kernel.import_skill(MathSkill(), \"math\")\n",
    "kernel.import_skill(FileIOSkill(), \"fileIO\")\n",
    "kernel.import_skill(TimeSkill(), \"time\")\n",
    "kernel.import_skill(TextSkill(), \"text\")"
   ]
  },
  {
   "cell_type": "code",
   "execution_count": 26,
   "id": "b938dc0e",
   "metadata": {},
   "outputs": [],
   "source": [
    "ask = \"What is the sum of 110 and 990?\""
   ]
  },
  {
   "cell_type": "code",
   "execution_count": 27,
   "id": "3aafd268",
   "metadata": {},
   "outputs": [],
   "source": [
    "plan = await planner.create_plan_async(goal=ask)"
   ]
  },
  {
   "cell_type": "code",
   "execution_count": 28,
   "id": "42589835",
   "metadata": {},
   "outputs": [],
   "source": [
    "result = await plan.invoke_async()"
   ]
  },
  {
   "cell_type": "code",
   "execution_count": 29,
   "id": "dc75e7a9",
   "metadata": {},
   "outputs": [
    {
     "name": "stdout",
     "output_type": "stream",
     "text": [
      "1100\n"
     ]
    }
   ],
   "source": [
    "print(result)"
   ]
  }
 ],
 "metadata": {
  "kernelspec": {
   "display_name": "Python 3 (ipykernel)",
   "language": "python",
   "name": "python3"
  },
  "language_info": {
   "codemirror_mode": {
    "name": "ipython",
    "version": 3
   },
   "file_extension": ".py",
   "mimetype": "text/x-python",
   "name": "python",
   "nbconvert_exporter": "python",
   "pygments_lexer": "ipython3",
   "version": "3.11.5"
  }
 },
 "nbformat": 4,
 "nbformat_minor": 5
}
