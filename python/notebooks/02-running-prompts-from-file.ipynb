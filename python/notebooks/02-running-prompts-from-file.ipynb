{
 "cells": [
  {
   "attachments": {},
   "cell_type": "markdown",
   "id": "692e361b",
   "metadata": {},
   "source": [
    "# How to run a semantic skills from file\n",
    "Now that you're familiar with Kernel basics, let's see how the kernel allows you to run Semantic Skills and Semantic Functions stored on disk. \n",
    "\n",
    "A Semantic Skill is a collection of Semantic Functions, where each function is defined with natural language that can be provided with a text file. \n",
    "\n",
    "Refer to our [glossary](https://github.com/microsoft/semantic-kernel/blob/main/docs/GLOSSARY.md) for an in-depth guide to the terms.\n",
    "\n",
    "The repository includes some examples under the [samples](https://github.com/microsoft/semantic-kernel/tree/main/samples) folder.\n",
    "\n",
    "For instance, [this](../../skills/FunSkill/Joke/skprompt.txt) is the **Joke function** part of the **FunSkill skill**:"
   ]
  },
  {
   "attachments": {},
   "cell_type": "markdown",
   "id": "f3ce1efe",
   "metadata": {},
   "source": [
    "```\n",
    "WRITE EXACTLY ONE JOKE or HUMOROUS STORY ABOUT THE TOPIC BELOW.\n",
    "JOKE MUST BE:\n",
    "- G RATED\n",
    "- WORKPLACE/FAMILY SAFE\n",
    "NO SEXISM, RACISM OR OTHER BIAS/BIGOTRY.\n",
    "BE CREATIVE AND FUNNY. I WANT TO LAUGH.\n",
    "+++++\n",
    "{{$input}}\n",
    "+++++\n",
    "```"
   ]
  },
  {
   "attachments": {},
   "cell_type": "markdown",
   "id": "afdb96d6",
   "metadata": {},
   "source": [
    "Note the special **`{{$input}}`** token, which is a variable that is automatically passed when invoking the function, commonly referred to as a \"function parameter\". \n",
    "\n",
    "We'll explore later how functions can accept multiple variables, as well as invoke other functions."
   ]
  },
  {
   "attachments": {},
   "cell_type": "markdown",
   "id": "c3bd5134",
   "metadata": {},
   "source": [
    "\n",
    "In the same folder you'll notice a second [config.json](../../skills/FunSkill/Joke/config.json) file. The file is optional, and is used to set some parameters for large language models like Temperature, TopP, Stop Sequences, etc.\n",
    "\n",
    "```\n",
    "{\n",
    "  \"schema\": 1,\n",
    "  \"type\": \"completion\",\n",
    "  \"description\": \"Generate a funny joke\",\n",
    "  \"completion\": {\n",
    "    \"max_tokens\": 500,\n",
    "    \"temperature\": 0.5,\n",
    "    \"top_p\": 0.5\n",
    "  }\n",
    "}\n",
    "```"
   ]
  },
  {
   "attachments": {},
   "cell_type": "markdown",
   "id": "384ff07f",
   "metadata": {},
   "source": [
    "Given a semantic function defined by these files, this is how to load and use a file based semantic function.\n",
    "\n",
    "Load and configure the kernel, as usual, loading also the AI service settings defined in the [Setup notebook](00-getting-started.ipynb):"
   ]
  },
  {
   "cell_type": "code",
   "execution_count": 1,
   "id": "365cfc01",
   "metadata": {},
   "outputs": [
    {
     "name": "stdout",
     "output_type": "stream",
     "text": [
      "Requirement already satisfied: semantic-kernel==0.3.10.dev0 in c:\\users\\jlsim\\onedrive\\documents\\codingfolder\\.venv\\lib\\site-packages (0.3.10.dev0)\n",
      "Requirement already satisfied: aiofiles<24.0.0,>=23.1.0 in c:\\users\\jlsim\\onedrive\\documents\\codingfolder\\.venv\\lib\\site-packages (from semantic-kernel==0.3.10.dev0) (23.2.1)\n",
      "Requirement already satisfied: numpy<2.0.0,>=1.24.2 in c:\\users\\jlsim\\onedrive\\documents\\codingfolder\\.venv\\lib\\site-packages (from semantic-kernel==0.3.10.dev0) (1.25.0)\n",
      "Requirement already satisfied: openai<0.28.0,>=0.27.0 in c:\\users\\jlsim\\onedrive\\documents\\codingfolder\\.venv\\lib\\site-packages (from semantic-kernel==0.3.10.dev0) (0.27.8)\n",
      "Requirement already satisfied: openapi_core<0.19.0,>=0.18.0 in c:\\users\\jlsim\\onedrive\\documents\\codingfolder\\.venv\\lib\\site-packages (from semantic-kernel==0.3.10.dev0) (0.18.0)\n",
      "Requirement already satisfied: prance<24.0.0.0,>=23.6.21.0 in c:\\users\\jlsim\\onedrive\\documents\\codingfolder\\.venv\\lib\\site-packages (from semantic-kernel==0.3.10.dev0) (23.6.21.0)\n",
      "Requirement already satisfied: pydantic<2 in c:\\users\\jlsim\\onedrive\\documents\\codingfolder\\.venv\\lib\\site-packages (from semantic-kernel==0.3.10.dev0) (1.10.11)\n",
      "Requirement already satisfied: python-dotenv==1.0.0 in c:\\users\\jlsim\\onedrive\\documents\\codingfolder\\.venv\\lib\\site-packages (from semantic-kernel==0.3.10.dev0) (1.0.0)\n",
      "Requirement already satisfied: regex<2024.0.0,>=2023.6.3 in c:\\users\\jlsim\\onedrive\\documents\\codingfolder\\.venv\\lib\\site-packages (from semantic-kernel==0.3.10.dev0) (2023.6.3)\n",
      "Requirement already satisfied: requests>=2.20 in c:\\users\\jlsim\\onedrive\\documents\\codingfolder\\.venv\\lib\\site-packages (from openai<0.28.0,>=0.27.0->semantic-kernel==0.3.10.dev0) (2.31.0)\n",
      "Requirement already satisfied: tqdm in c:\\users\\jlsim\\onedrive\\documents\\codingfolder\\.venv\\lib\\site-packages (from openai<0.28.0,>=0.27.0->semantic-kernel==0.3.10.dev0) (4.65.0)\n",
      "Requirement already satisfied: aiohttp in c:\\users\\jlsim\\onedrive\\documents\\codingfolder\\.venv\\lib\\site-packages (from openai<0.28.0,>=0.27.0->semantic-kernel==0.3.10.dev0) (3.8.4)\n",
      "Requirement already satisfied: asgiref<4.0.0,>=3.6.0 in c:\\users\\jlsim\\onedrive\\documents\\codingfolder\\.venv\\lib\\site-packages (from openapi_core<0.19.0,>=0.18.0->semantic-kernel==0.3.10.dev0) (3.7.2)\n",
      "Requirement already satisfied: isodate in c:\\users\\jlsim\\onedrive\\documents\\codingfolder\\.venv\\lib\\site-packages (from openapi_core<0.19.0,>=0.18.0->semantic-kernel==0.3.10.dev0) (0.6.1)\n",
      "Requirement already satisfied: jsonschema<5.0.0,>=4.18.0 in c:\\users\\jlsim\\onedrive\\documents\\codingfolder\\.venv\\lib\\site-packages (from openapi_core<0.19.0,>=0.18.0->semantic-kernel==0.3.10.dev0) (4.18.0)\n",
      "Requirement already satisfied: jsonschema-spec<0.3.0,>=0.2.3 in c:\\users\\jlsim\\onedrive\\documents\\codingfolder\\.venv\\lib\\site-packages (from openapi_core<0.19.0,>=0.18.0->semantic-kernel==0.3.10.dev0) (0.2.4)\n",
      "Requirement already satisfied: more-itertools in c:\\users\\jlsim\\onedrive\\documents\\codingfolder\\.venv\\lib\\site-packages (from openapi_core<0.19.0,>=0.18.0->semantic-kernel==0.3.10.dev0) (9.1.0)\n",
      "Requirement already satisfied: openapi-schema-validator<0.7.0,>=0.6.0 in c:\\users\\jlsim\\onedrive\\documents\\codingfolder\\.venv\\lib\\site-packages (from openapi_core<0.19.0,>=0.18.0->semantic-kernel==0.3.10.dev0) (0.6.0)\n",
      "Requirement already satisfied: openapi-spec-validator<0.7.0,>=0.6.0 in c:\\users\\jlsim\\onedrive\\documents\\codingfolder\\.venv\\lib\\site-packages (from openapi_core<0.19.0,>=0.18.0->semantic-kernel==0.3.10.dev0) (0.6.0)\n",
      "Requirement already satisfied: parse in c:\\users\\jlsim\\onedrive\\documents\\codingfolder\\.venv\\lib\\site-packages (from openapi_core<0.19.0,>=0.18.0->semantic-kernel==0.3.10.dev0) (1.19.1)\n",
      "Requirement already satisfied: werkzeug in c:\\users\\jlsim\\onedrive\\documents\\codingfolder\\.venv\\lib\\site-packages (from openapi_core<0.19.0,>=0.18.0->semantic-kernel==0.3.10.dev0) (2.3.6)\n",
      "Requirement already satisfied: chardet>=3.0 in c:\\users\\jlsim\\onedrive\\documents\\codingfolder\\.venv\\lib\\site-packages (from prance<24.0.0.0,>=23.6.21.0->semantic-kernel==0.3.10.dev0) (5.2.0)\n",
      "Requirement already satisfied: ruamel.yaml>=0.17.10 in c:\\users\\jlsim\\onedrive\\documents\\codingfolder\\.venv\\lib\\site-packages (from prance<24.0.0.0,>=23.6.21.0->semantic-kernel==0.3.10.dev0) (0.17.32)\n",
      "Requirement already satisfied: six~=1.15 in c:\\users\\jlsim\\onedrive\\documents\\codingfolder\\.venv\\lib\\site-packages (from prance<24.0.0.0,>=23.6.21.0->semantic-kernel==0.3.10.dev0) (1.16.0)\n",
      "Requirement already satisfied: packaging>=21.3 in c:\\users\\jlsim\\onedrive\\documents\\codingfolder\\.venv\\lib\\site-packages (from prance<24.0.0.0,>=23.6.21.0->semantic-kernel==0.3.10.dev0) (23.1)\n",
      "Requirement already satisfied: typing-extensions>=4.2.0 in c:\\users\\jlsim\\onedrive\\documents\\codingfolder\\.venv\\lib\\site-packages (from pydantic<2->semantic-kernel==0.3.10.dev0) (4.7.1)\n",
      "Requirement already satisfied: attrs>=22.2.0 in c:\\users\\jlsim\\onedrive\\documents\\codingfolder\\.venv\\lib\\site-packages (from jsonschema<5.0.0,>=4.18.0->openapi_core<0.19.0,>=0.18.0->semantic-kernel==0.3.10.dev0) (23.1.0)\n",
      "Requirement already satisfied: jsonschema-specifications>=2023.03.6 in c:\\users\\jlsim\\onedrive\\documents\\codingfolder\\.venv\\lib\\site-packages (from jsonschema<5.0.0,>=4.18.0->openapi_core<0.19.0,>=0.18.0->semantic-kernel==0.3.10.dev0) (2023.6.1)\n",
      "Requirement already satisfied: referencing>=0.28.4 in c:\\users\\jlsim\\onedrive\\documents\\codingfolder\\.venv\\lib\\site-packages (from jsonschema<5.0.0,>=4.18.0->openapi_core<0.19.0,>=0.18.0->semantic-kernel==0.3.10.dev0) (0.29.1)\n",
      "Requirement already satisfied: rpds-py>=0.7.1 in c:\\users\\jlsim\\onedrive\\documents\\codingfolder\\.venv\\lib\\site-packages (from jsonschema<5.0.0,>=4.18.0->openapi_core<0.19.0,>=0.18.0->semantic-kernel==0.3.10.dev0) (0.8.8)\n",
      "Requirement already satisfied: PyYAML>=5.1 in c:\\users\\jlsim\\onedrive\\documents\\codingfolder\\.venv\\lib\\site-packages (from jsonschema-spec<0.3.0,>=0.2.3->openapi_core<0.19.0,>=0.18.0->semantic-kernel==0.3.10.dev0) (6.0)\n",
      "Requirement already satisfied: pathable<0.5.0,>=0.4.1 in c:\\users\\jlsim\\onedrive\\documents\\codingfolder\\.venv\\lib\\site-packages (from jsonschema-spec<0.3.0,>=0.2.3->openapi_core<0.19.0,>=0.18.0->semantic-kernel==0.3.10.dev0) (0.4.3)\n",
      "Requirement already satisfied: rfc3339-validator in c:\\users\\jlsim\\onedrive\\documents\\codingfolder\\.venv\\lib\\site-packages (from openapi-schema-validator<0.7.0,>=0.6.0->openapi_core<0.19.0,>=0.18.0->semantic-kernel==0.3.10.dev0) (0.1.4)\n",
      "Requirement already satisfied: lazy-object-proxy<2.0.0,>=1.7.1 in c:\\users\\jlsim\\onedrive\\documents\\codingfolder\\.venv\\lib\\site-packages (from openapi-spec-validator<0.7.0,>=0.6.0->openapi_core<0.19.0,>=0.18.0->semantic-kernel==0.3.10.dev0) (1.9.0)\n",
      "Requirement already satisfied: charset-normalizer<4,>=2 in c:\\users\\jlsim\\onedrive\\documents\\codingfolder\\.venv\\lib\\site-packages (from requests>=2.20->openai<0.28.0,>=0.27.0->semantic-kernel==0.3.10.dev0) (3.1.0)\n",
      "Requirement already satisfied: idna<4,>=2.5 in c:\\users\\jlsim\\onedrive\\documents\\codingfolder\\.venv\\lib\\site-packages (from requests>=2.20->openai<0.28.0,>=0.27.0->semantic-kernel==0.3.10.dev0) (3.4)\n",
      "Requirement already satisfied: urllib3<3,>=1.21.1 in c:\\users\\jlsim\\onedrive\\documents\\codingfolder\\.venv\\lib\\site-packages (from requests>=2.20->openai<0.28.0,>=0.27.0->semantic-kernel==0.3.10.dev0) (2.0.3)\n",
      "Requirement already satisfied: certifi>=2017.4.17 in c:\\users\\jlsim\\onedrive\\documents\\codingfolder\\.venv\\lib\\site-packages (from requests>=2.20->openai<0.28.0,>=0.27.0->semantic-kernel==0.3.10.dev0) (2023.5.7)\n",
      "Requirement already satisfied: ruamel.yaml.clib>=0.2.7 in c:\\users\\jlsim\\onedrive\\documents\\codingfolder\\.venv\\lib\\site-packages (from ruamel.yaml>=0.17.10->prance<24.0.0.0,>=23.6.21.0->semantic-kernel==0.3.10.dev0) (0.2.7)\n",
      "Requirement already satisfied: multidict<7.0,>=4.5 in c:\\users\\jlsim\\onedrive\\documents\\codingfolder\\.venv\\lib\\site-packages (from aiohttp->openai<0.28.0,>=0.27.0->semantic-kernel==0.3.10.dev0) (6.0.4)\n",
      "Requirement already satisfied: async-timeout<5.0,>=4.0.0a3 in c:\\users\\jlsim\\onedrive\\documents\\codingfolder\\.venv\\lib\\site-packages (from aiohttp->openai<0.28.0,>=0.27.0->semantic-kernel==0.3.10.dev0) (4.0.2)\n",
      "Requirement already satisfied: yarl<2.0,>=1.0 in c:\\users\\jlsim\\onedrive\\documents\\codingfolder\\.venv\\lib\\site-packages (from aiohttp->openai<0.28.0,>=0.27.0->semantic-kernel==0.3.10.dev0) (1.9.2)\n",
      "Requirement already satisfied: frozenlist>=1.1.1 in c:\\users\\jlsim\\onedrive\\documents\\codingfolder\\.venv\\lib\\site-packages (from aiohttp->openai<0.28.0,>=0.27.0->semantic-kernel==0.3.10.dev0) (1.3.3)\n",
      "Requirement already satisfied: aiosignal>=1.1.2 in c:\\users\\jlsim\\onedrive\\documents\\codingfolder\\.venv\\lib\\site-packages (from aiohttp->openai<0.28.0,>=0.27.0->semantic-kernel==0.3.10.dev0) (1.3.1)\n",
      "Requirement already satisfied: colorama in c:\\users\\jlsim\\onedrive\\documents\\codingfolder\\.venv\\lib\\site-packages (from tqdm->openai<0.28.0,>=0.27.0->semantic-kernel==0.3.10.dev0) (0.4.6)\n",
      "Requirement already satisfied: MarkupSafe>=2.1.1 in c:\\users\\jlsim\\onedrive\\documents\\codingfolder\\.venv\\lib\\site-packages (from werkzeug->openapi_core<0.19.0,>=0.18.0->semantic-kernel==0.3.10.dev0) (2.1.3)\n"
     ]
    }
   ],
   "source": [
    "!python -m pip install semantic-kernel==0.3.10.dev0"
   ]
  },
  {
   "cell_type": "code",
   "execution_count": 2,
   "id": "b0062a24",
   "metadata": {},
   "outputs": [],
   "source": [
    "import semantic_kernel as sk\n",
    "from semantic_kernel.connectors.ai.open_ai import AzureChatCompletion, OpenAIChatCompletion\n",
    "\n",
    "kernel = sk.Kernel()\n",
    "\n",
    "useAzureOpenAI = False\n",
    "\n",
    "# Configure AI service used by the kernel\n",
    "if useAzureOpenAI:\n",
    "    deployment, api_key, endpoint = sk.azure_openai_settings_from_dot_env()\n",
    "    kernel.add_chat_service(\"chat_completion\", AzureChatCompletion(\"gpt-35-turbo\", endpoint, api_key))\n",
    "else:\n",
    "    api_key, org_id = sk.openai_settings_from_dot_env()\n",
    "    kernel.add_chat_service(\"chat-gpt\", OpenAIChatCompletion(\"gpt-3.5-turbo\", api_key, org_id))"
   ]
  },
  {
   "attachments": {},
   "cell_type": "markdown",
   "id": "fd5ff1f4",
   "metadata": {},
   "source": [
    "Import the skill and all its functions:"
   ]
  },
  {
   "cell_type": "code",
   "execution_count": 6,
   "id": "56ee184d",
   "metadata": {},
   "outputs": [
    {
     "name": "stdout",
     "output_type": "stream",
     "text": [
      "c:\\Users\\jlsim\\OneDrive\\Documents\\codingfolder\\semantic-kernel\\python\\notebooks\n",
      "../../samples/skills\n"
     ]
    }
   ],
   "source": [
    "# note: using skills from the samples folder\n",
    "import os\n",
    "skills_directory = \"../../samples/skills\"\n",
    "print(os.getcwd())\n",
    "print(skills_directory)\n",
    "\n",
    "funFunctions = kernel.import_semantic_skill_from_directory(skills_directory, \"FunSkill\")\n",
    "\n",
    "jokeFunction = funFunctions[\"Joke\"]"
   ]
  },
  {
   "attachments": {},
   "cell_type": "markdown",
   "id": "edd99fa0",
   "metadata": {},
   "source": [
    "How to use the skill functions, e.g. generate a joke about \"*time travel to dinosaur age*\":"
   ]
  },
  {
   "cell_type": "code",
   "execution_count": 4,
   "id": "6effe63b",
   "metadata": {},
   "outputs": [
    {
     "name": "stdout",
     "output_type": "stream",
     "text": [
      "Why did the time traveler bring a ladder to the dinosaur age?\n",
      "\n",
      "Because he wanted to reach new heights in history!\n"
     ]
    }
   ],
   "source": [
    "result = jokeFunction(\"time travel to dinosaur age\")\n",
    "\n",
    "print(result)\n",
    "\n",
    "# You can also invoke functions asynchronously\n",
    "# result = await jokeFunction.invoke_async(\"time travel to dinosaur age\")\n",
    "# print(result)"
   ]
  },
  {
   "attachments": {},
   "cell_type": "markdown",
   "id": "2281a1fc",
   "metadata": {},
   "source": [
    "Great, now that you know how to load a skill from disk, let's show how you can [create and run a semantic function inline.](./03-semantic-function-inline.ipynb)"
   ]
  }
 ],
 "metadata": {
  "kernelspec": {
   "display_name": "Python 3 (ipykernel)",
   "language": "python",
   "name": "python3"
  },
  "language_info": {
   "codemirror_mode": {
    "name": "ipython",
    "version": 3
   },
   "file_extension": ".py",
   "mimetype": "text/x-python",
   "name": "python",
   "nbconvert_exporter": "python",
   "pygments_lexer": "ipython3",
   "version": "3.11.5"
  }
 },
 "nbformat": 4,
 "nbformat_minor": 5
}
