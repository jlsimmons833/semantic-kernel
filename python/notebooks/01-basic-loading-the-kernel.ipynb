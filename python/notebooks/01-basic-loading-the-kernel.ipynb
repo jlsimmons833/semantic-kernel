{
 "cells": [
  {
   "attachments": {},
   "cell_type": "markdown",
   "metadata": {},
   "source": [
    "# Basic Loading of the Kernel"
   ]
  },
  {
   "attachments": {},
   "cell_type": "markdown",
   "metadata": {},
   "source": [
    "To run the notebooks we recommend using Poetry and starting a shell with a virtual environment\n",
    "prepared to use SK. \n",
    "\n",
    "See [DEV_SETUP.md](../../../python/DEV_SETUP.md) for more information."
   ]
  },
  {
   "cell_type": "code",
   "execution_count": 1,
   "metadata": {},
   "outputs": [
    {
     "name": "stdout",
     "output_type": "stream",
     "text": [
      "Collecting semantic-kernel==0.3.10.dev0\n",
      "  Obtaining dependency information for semantic-kernel==0.3.10.dev0 from https://files.pythonhosted.org/packages/09/04/234d1baf17627fb240793dc2cfc5c746193183fbec5af1df81ad04c94cc8/semantic_kernel-0.3.10.dev0-py3-none-any.whl.metadata\n",
      "  Downloading semantic_kernel-0.3.10.dev0-py3-none-any.whl.metadata (2.0 kB)\n",
      "Requirement already satisfied: aiofiles<24.0.0,>=23.1.0 in c:\\users\\jlsim\\onedrive\\documents\\codingfolder\\.venv\\lib\\site-packages (from semantic-kernel==0.3.10.dev0) (23.2.1)\n",
      "Requirement already satisfied: numpy<2.0.0,>=1.24.2 in c:\\users\\jlsim\\onedrive\\documents\\codingfolder\\.venv\\lib\\site-packages (from semantic-kernel==0.3.10.dev0) (1.25.0)\n",
      "Requirement already satisfied: openai<0.28.0,>=0.27.0 in c:\\users\\jlsim\\onedrive\\documents\\codingfolder\\.venv\\lib\\site-packages (from semantic-kernel==0.3.10.dev0) (0.27.8)\n",
      "Requirement already satisfied: openapi_core<0.19.0,>=0.18.0 in c:\\users\\jlsim\\onedrive\\documents\\codingfolder\\.venv\\lib\\site-packages (from semantic-kernel==0.3.10.dev0) (0.18.0)\n",
      "Requirement already satisfied: prance<24.0.0.0,>=23.6.21.0 in c:\\users\\jlsim\\onedrive\\documents\\codingfolder\\.venv\\lib\\site-packages (from semantic-kernel==0.3.10.dev0) (23.6.21.0)\n",
      "Requirement already satisfied: pydantic<2 in c:\\users\\jlsim\\onedrive\\documents\\codingfolder\\.venv\\lib\\site-packages (from semantic-kernel==0.3.10.dev0) (1.10.11)\n",
      "Requirement already satisfied: python-dotenv==1.0.0 in c:\\users\\jlsim\\onedrive\\documents\\codingfolder\\.venv\\lib\\site-packages (from semantic-kernel==0.3.10.dev0) (1.0.0)\n",
      "Requirement already satisfied: regex<2024.0.0,>=2023.6.3 in c:\\users\\jlsim\\onedrive\\documents\\codingfolder\\.venv\\lib\\site-packages (from semantic-kernel==0.3.10.dev0) (2023.6.3)\n",
      "Requirement already satisfied: requests>=2.20 in c:\\users\\jlsim\\onedrive\\documents\\codingfolder\\.venv\\lib\\site-packages (from openai<0.28.0,>=0.27.0->semantic-kernel==0.3.10.dev0) (2.31.0)\n",
      "Requirement already satisfied: tqdm in c:\\users\\jlsim\\onedrive\\documents\\codingfolder\\.venv\\lib\\site-packages (from openai<0.28.0,>=0.27.0->semantic-kernel==0.3.10.dev0) (4.65.0)\n",
      "Requirement already satisfied: aiohttp in c:\\users\\jlsim\\onedrive\\documents\\codingfolder\\.venv\\lib\\site-packages (from openai<0.28.0,>=0.27.0->semantic-kernel==0.3.10.dev0) (3.8.4)\n",
      "Requirement already satisfied: asgiref<4.0.0,>=3.6.0 in c:\\users\\jlsim\\onedrive\\documents\\codingfolder\\.venv\\lib\\site-packages (from openapi_core<0.19.0,>=0.18.0->semantic-kernel==0.3.10.dev0) (3.7.2)\n",
      "Requirement already satisfied: isodate in c:\\users\\jlsim\\onedrive\\documents\\codingfolder\\.venv\\lib\\site-packages (from openapi_core<0.19.0,>=0.18.0->semantic-kernel==0.3.10.dev0) (0.6.1)\n",
      "Requirement already satisfied: jsonschema<5.0.0,>=4.18.0 in c:\\users\\jlsim\\onedrive\\documents\\codingfolder\\.venv\\lib\\site-packages (from openapi_core<0.19.0,>=0.18.0->semantic-kernel==0.3.10.dev0) (4.18.0)\n",
      "Requirement already satisfied: jsonschema-spec<0.3.0,>=0.2.3 in c:\\users\\jlsim\\onedrive\\documents\\codingfolder\\.venv\\lib\\site-packages (from openapi_core<0.19.0,>=0.18.0->semantic-kernel==0.3.10.dev0) (0.2.4)\n",
      "Requirement already satisfied: more-itertools in c:\\users\\jlsim\\onedrive\\documents\\codingfolder\\.venv\\lib\\site-packages (from openapi_core<0.19.0,>=0.18.0->semantic-kernel==0.3.10.dev0) (9.1.0)\n",
      "Requirement already satisfied: openapi-schema-validator<0.7.0,>=0.6.0 in c:\\users\\jlsim\\onedrive\\documents\\codingfolder\\.venv\\lib\\site-packages (from openapi_core<0.19.0,>=0.18.0->semantic-kernel==0.3.10.dev0) (0.6.0)\n",
      "Requirement already satisfied: openapi-spec-validator<0.7.0,>=0.6.0 in c:\\users\\jlsim\\onedrive\\documents\\codingfolder\\.venv\\lib\\site-packages (from openapi_core<0.19.0,>=0.18.0->semantic-kernel==0.3.10.dev0) (0.6.0)\n",
      "Requirement already satisfied: parse in c:\\users\\jlsim\\onedrive\\documents\\codingfolder\\.venv\\lib\\site-packages (from openapi_core<0.19.0,>=0.18.0->semantic-kernel==0.3.10.dev0) (1.19.1)\n",
      "Requirement already satisfied: werkzeug in c:\\users\\jlsim\\onedrive\\documents\\codingfolder\\.venv\\lib\\site-packages (from openapi_core<0.19.0,>=0.18.0->semantic-kernel==0.3.10.dev0) (2.3.6)\n",
      "Requirement already satisfied: chardet>=3.0 in c:\\users\\jlsim\\onedrive\\documents\\codingfolder\\.venv\\lib\\site-packages (from prance<24.0.0.0,>=23.6.21.0->semantic-kernel==0.3.10.dev0) (5.2.0)\n",
      "Requirement already satisfied: ruamel.yaml>=0.17.10 in c:\\users\\jlsim\\onedrive\\documents\\codingfolder\\.venv\\lib\\site-packages (from prance<24.0.0.0,>=23.6.21.0->semantic-kernel==0.3.10.dev0) (0.17.32)\n",
      "Requirement already satisfied: six~=1.15 in c:\\users\\jlsim\\onedrive\\documents\\codingfolder\\.venv\\lib\\site-packages (from prance<24.0.0.0,>=23.6.21.0->semantic-kernel==0.3.10.dev0) (1.16.0)\n",
      "Requirement already satisfied: packaging>=21.3 in c:\\users\\jlsim\\onedrive\\documents\\codingfolder\\.venv\\lib\\site-packages (from prance<24.0.0.0,>=23.6.21.0->semantic-kernel==0.3.10.dev0) (23.1)\n",
      "Requirement already satisfied: typing-extensions>=4.2.0 in c:\\users\\jlsim\\onedrive\\documents\\codingfolder\\.venv\\lib\\site-packages (from pydantic<2->semantic-kernel==0.3.10.dev0) (4.7.1)\n",
      "Requirement already satisfied: attrs>=22.2.0 in c:\\users\\jlsim\\onedrive\\documents\\codingfolder\\.venv\\lib\\site-packages (from jsonschema<5.0.0,>=4.18.0->openapi_core<0.19.0,>=0.18.0->semantic-kernel==0.3.10.dev0) (23.1.0)\n",
      "Requirement already satisfied: jsonschema-specifications>=2023.03.6 in c:\\users\\jlsim\\onedrive\\documents\\codingfolder\\.venv\\lib\\site-packages (from jsonschema<5.0.0,>=4.18.0->openapi_core<0.19.0,>=0.18.0->semantic-kernel==0.3.10.dev0) (2023.6.1)\n",
      "Requirement already satisfied: referencing>=0.28.4 in c:\\users\\jlsim\\onedrive\\documents\\codingfolder\\.venv\\lib\\site-packages (from jsonschema<5.0.0,>=4.18.0->openapi_core<0.19.0,>=0.18.0->semantic-kernel==0.3.10.dev0) (0.29.1)\n",
      "Requirement already satisfied: rpds-py>=0.7.1 in c:\\users\\jlsim\\onedrive\\documents\\codingfolder\\.venv\\lib\\site-packages (from jsonschema<5.0.0,>=4.18.0->openapi_core<0.19.0,>=0.18.0->semantic-kernel==0.3.10.dev0) (0.8.8)\n",
      "Requirement already satisfied: PyYAML>=5.1 in c:\\users\\jlsim\\onedrive\\documents\\codingfolder\\.venv\\lib\\site-packages (from jsonschema-spec<0.3.0,>=0.2.3->openapi_core<0.19.0,>=0.18.0->semantic-kernel==0.3.10.dev0) (6.0)\n",
      "Requirement already satisfied: pathable<0.5.0,>=0.4.1 in c:\\users\\jlsim\\onedrive\\documents\\codingfolder\\.venv\\lib\\site-packages (from jsonschema-spec<0.3.0,>=0.2.3->openapi_core<0.19.0,>=0.18.0->semantic-kernel==0.3.10.dev0) (0.4.3)\n",
      "Requirement already satisfied: rfc3339-validator in c:\\users\\jlsim\\onedrive\\documents\\codingfolder\\.venv\\lib\\site-packages (from openapi-schema-validator<0.7.0,>=0.6.0->openapi_core<0.19.0,>=0.18.0->semantic-kernel==0.3.10.dev0) (0.1.4)\n",
      "Requirement already satisfied: lazy-object-proxy<2.0.0,>=1.7.1 in c:\\users\\jlsim\\onedrive\\documents\\codingfolder\\.venv\\lib\\site-packages (from openapi-spec-validator<0.7.0,>=0.6.0->openapi_core<0.19.0,>=0.18.0->semantic-kernel==0.3.10.dev0) (1.9.0)\n",
      "Requirement already satisfied: charset-normalizer<4,>=2 in c:\\users\\jlsim\\onedrive\\documents\\codingfolder\\.venv\\lib\\site-packages (from requests>=2.20->openai<0.28.0,>=0.27.0->semantic-kernel==0.3.10.dev0) (3.1.0)\n",
      "Requirement already satisfied: idna<4,>=2.5 in c:\\users\\jlsim\\onedrive\\documents\\codingfolder\\.venv\\lib\\site-packages (from requests>=2.20->openai<0.28.0,>=0.27.0->semantic-kernel==0.3.10.dev0) (3.4)\n",
      "Requirement already satisfied: urllib3<3,>=1.21.1 in c:\\users\\jlsim\\onedrive\\documents\\codingfolder\\.venv\\lib\\site-packages (from requests>=2.20->openai<0.28.0,>=0.27.0->semantic-kernel==0.3.10.dev0) (2.0.3)\n",
      "Requirement already satisfied: certifi>=2017.4.17 in c:\\users\\jlsim\\onedrive\\documents\\codingfolder\\.venv\\lib\\site-packages (from requests>=2.20->openai<0.28.0,>=0.27.0->semantic-kernel==0.3.10.dev0) (2023.5.7)\n",
      "Requirement already satisfied: ruamel.yaml.clib>=0.2.7 in c:\\users\\jlsim\\onedrive\\documents\\codingfolder\\.venv\\lib\\site-packages (from ruamel.yaml>=0.17.10->prance<24.0.0.0,>=23.6.21.0->semantic-kernel==0.3.10.dev0) (0.2.7)\n",
      "Requirement already satisfied: multidict<7.0,>=4.5 in c:\\users\\jlsim\\onedrive\\documents\\codingfolder\\.venv\\lib\\site-packages (from aiohttp->openai<0.28.0,>=0.27.0->semantic-kernel==0.3.10.dev0) (6.0.4)\n",
      "Requirement already satisfied: async-timeout<5.0,>=4.0.0a3 in c:\\users\\jlsim\\onedrive\\documents\\codingfolder\\.venv\\lib\\site-packages (from aiohttp->openai<0.28.0,>=0.27.0->semantic-kernel==0.3.10.dev0) (4.0.2)\n",
      "Requirement already satisfied: yarl<2.0,>=1.0 in c:\\users\\jlsim\\onedrive\\documents\\codingfolder\\.venv\\lib\\site-packages (from aiohttp->openai<0.28.0,>=0.27.0->semantic-kernel==0.3.10.dev0) (1.9.2)\n",
      "Requirement already satisfied: frozenlist>=1.1.1 in c:\\users\\jlsim\\onedrive\\documents\\codingfolder\\.venv\\lib\\site-packages (from aiohttp->openai<0.28.0,>=0.27.0->semantic-kernel==0.3.10.dev0) (1.3.3)\n",
      "Requirement already satisfied: aiosignal>=1.1.2 in c:\\users\\jlsim\\onedrive\\documents\\codingfolder\\.venv\\lib\\site-packages (from aiohttp->openai<0.28.0,>=0.27.0->semantic-kernel==0.3.10.dev0) (1.3.1)\n",
      "Requirement already satisfied: colorama in c:\\users\\jlsim\\onedrive\\documents\\codingfolder\\.venv\\lib\\site-packages (from tqdm->openai<0.28.0,>=0.27.0->semantic-kernel==0.3.10.dev0) (0.4.6)\n",
      "Requirement already satisfied: MarkupSafe>=2.1.1 in c:\\users\\jlsim\\onedrive\\documents\\codingfolder\\.venv\\lib\\site-packages (from werkzeug->openapi_core<0.19.0,>=0.18.0->semantic-kernel==0.3.10.dev0) (2.1.3)\n",
      "Downloading semantic_kernel-0.3.10.dev0-py3-none-any.whl (169 kB)\n",
      "   ---------------------------------------- 0.0/169.0 kB ? eta -:--:--\n",
      "   -- ------------------------------------- 10.2/169.0 kB ? eta -:--:--\n",
      "   ------------------- -------------------- 81.9/169.0 kB 1.1 MB/s eta 0:00:01\n",
      "   ---------------------------------------- 169.0/169.0 kB 2.0 MB/s eta 0:00:00\n",
      "Installing collected packages: semantic-kernel\n",
      "  Attempting uninstall: semantic-kernel\n",
      "    Found existing installation: semantic-kernel 0.3.12.dev0\n",
      "    Uninstalling semantic-kernel-0.3.12.dev0:\n",
      "      Successfully uninstalled semantic-kernel-0.3.12.dev0\n",
      "Successfully installed semantic-kernel-0.3.10.dev0\n"
     ]
    }
   ],
   "source": [
    "!python -m pip install semantic-kernel==0.3.10.dev0"
   ]
  },
  {
   "cell_type": "code",
   "execution_count": 2,
   "metadata": {},
   "outputs": [],
   "source": [
    "import semantic_kernel as sk\n",
    "from semantic_kernel.connectors.ai.open_ai import AzureChatCompletion, OpenAIChatCompletion"
   ]
  },
  {
   "attachments": {},
   "cell_type": "markdown",
   "metadata": {},
   "source": [
    "You can instantiate the kernel in a few ways, depending on your use case."
   ]
  },
  {
   "cell_type": "code",
   "execution_count": 3,
   "metadata": {},
   "outputs": [],
   "source": [
    "# Simple instance\n",
    "kernel_1 = sk.Kernel()"
   ]
  },
  {
   "cell_type": "code",
   "execution_count": 4,
   "metadata": {},
   "outputs": [],
   "source": [
    "# Instance with a custom logger\n",
    "my_logger = sk.NullLogger()\n",
    "kernel_2 = sk.Kernel(log=my_logger)"
   ]
  },
  {
   "attachments": {},
   "cell_type": "markdown",
   "metadata": {},
   "source": [
    "When using the kernel for AI requests, the kernel needs some settings like URL and credentials to the AI models.\n",
    "\n",
    "The SDK currently supports OpenAI and Azure OpenAI, other services will be added over time.\n",
    "\n",
    "If you need an Azure OpenAI key, go [here](https://learn.microsoft.com/en-us/azure/cognitive-services/openai/quickstart?pivots=rest-api)."
   ]
  },
  {
   "cell_type": "code",
   "execution_count": 5,
   "metadata": {},
   "outputs": [
    {
     "data": {
      "text/plain": [
       "<semantic_kernel.kernel.Kernel at 0x1b706c3e850>"
      ]
     },
     "execution_count": 5,
     "metadata": {},
     "output_type": "execute_result"
    }
   ],
   "source": [
    "kernel = sk.Kernel()\n",
    "\n",
    "kernel.add_chat_service(                      # We are adding a text service\n",
    "    \"Azure_curie\",                            # The alias we can use in prompt templates' config.json\n",
    "    AzureChatCompletion(\n",
    "        \"my-finetuned-Curie\",                 # Azure OpenAI *Deployment name*\n",
    "        \"https://contoso.openai.azure.com/\",  # Azure OpenAI *Endpoint*\n",
    "        \"...your Azure OpenAI Key...\"         # Azure OpenAI *Key*\n",
    "    )\n",
    ")\n",
    "\n",
    "kernel.add_chat_service(                      # We are adding a text service\n",
    "    \"OpenAI_chat_gpt\",                        # The alias we can use in prompt templates' config.json\n",
    "    OpenAIChatCompletion(\n",
    "        \"gpt-3.5-turbo\",                      # OpenAI Model Name\n",
    "        \"...your OpenAI API Key...\",          # OpenAI API key\n",
    "        \"...your OpenAI Org ID...\"            # *optional* OpenAI Organization ID\n",
    "    )\n",
    ")"
   ]
  },
  {
   "attachments": {},
   "cell_type": "markdown",
   "metadata": {},
   "source": [
    "When working with multiple services and multiple models, the **first service** defined\n",
    "is also the \"**default**\" used in these scenarios:\n",
    "\n",
    "* a prompt configuration doesn't specify which AI service to use\n",
    "* a prompt configuration requires a service unknown to the kernel\n",
    "\n",
    "The default can be set and changed programmatically:"
   ]
  },
  {
   "cell_type": "code",
   "execution_count": 6,
   "metadata": {},
   "outputs": [
    {
     "data": {
      "text/plain": [
       "<semantic_kernel.kernel.Kernel at 0x1b706c3e850>"
      ]
     },
     "execution_count": 6,
     "metadata": {},
     "output_type": "execute_result"
    }
   ],
   "source": [
    "kernel.set_default_text_completion_service(\"Azure_curie\")"
   ]
  },
  {
   "attachments": {},
   "cell_type": "markdown",
   "metadata": {},
   "source": [
    "Great, now that you're familiar with setting up the Semantic Kernel, let's see [how we can use it to run prompts](02-running-prompts-from-file.ipynb)."
   ]
  }
 ],
 "metadata": {
  "kernelspec": {
   "display_name": "Python 3 (ipykernel)",
   "language": "python",
   "name": "python3"
  },
  "language_info": {
   "codemirror_mode": {
    "name": "ipython",
    "version": 3
   },
   "file_extension": ".py",
   "mimetype": "text/x-python",
   "name": "python",
   "nbconvert_exporter": "python",
   "pygments_lexer": "ipython3",
   "version": "3.11.5"
  },
  "polyglot_notebook": {
   "kernelInfo": {
    "items": [
     {
      "aliases": [
       "frontend"
      ],
      "name": "vscode"
     }
    ]
   }
  }
 },
 "nbformat": 4,
 "nbformat_minor": 2
}
