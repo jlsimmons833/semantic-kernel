{
 "cells": [
  {
   "cell_type": "code",
   "execution_count": 11,
   "metadata": {},
   "outputs": [],
   "source": [
    "import semantic_kernel as sk\n",
    "import semantic_kernel.connectors as skc"
   ]
  },
  {
   "cell_type": "code",
   "execution_count": 12,
   "metadata": {},
   "outputs": [
    {
     "name": "stdout",
     "output_type": "stream",
     "text": [
      "Found submodule semantic_kernel.connectors.ai (is a package: True)\n",
      "Imported <module 'semantic_kernel.connectors.ai' from 'c:\\\\Users\\\\jlsim\\\\OneDrive\\\\Documents\\\\codingfolder\\\\.venv\\\\Lib\\\\site-packages\\\\semantic_kernel\\\\connectors\\\\ai\\\\__init__.py'>\n",
      "Found submodule semantic_kernel.connectors.openapi (is a package: True)\n",
      "Imported <module 'semantic_kernel.connectors.openapi' from 'c:\\\\Users\\\\jlsim\\\\OneDrive\\\\Documents\\\\codingfolder\\\\.venv\\\\Lib\\\\site-packages\\\\semantic_kernel\\\\connectors\\\\openapi\\\\__init__.py'>\n",
      "Found submodule semantic_kernel.connectors.search_engine (is a package: True)\n",
      "Imported <module 'semantic_kernel.connectors.search_engine' from 'c:\\\\Users\\\\jlsim\\\\OneDrive\\\\Documents\\\\codingfolder\\\\.venv\\\\Lib\\\\site-packages\\\\semantic_kernel\\\\connectors\\\\search_engine\\\\__init__.py'>\n"
     ]
    }
   ],
   "source": [
    "import pkgutil\n",
    "# this is the package we are inspecting -- for example 'email' from stdlib\n",
    "package = skc\n",
    "prefix = package.__name__ + \".\"\n",
    "for importer, modname, ispkg in pkgutil.iter_modules(package.__path__, prefix):\n",
    "    print(\"Found submodule %s (is a package: %s)\" % (modname, ispkg))\n",
    "    module = __import__(modname, fromlist=\"dummy\")\n",
    "    print(\"Imported\", module)\n"
   ]
  }
 ],
 "metadata": {
  "kernelspec": {
   "display_name": ".venv",
   "language": "python",
   "name": "python3"
  },
  "language_info": {
   "codemirror_mode": {
    "name": "ipython",
    "version": 3
   },
   "file_extension": ".py",
   "mimetype": "text/x-python",
   "name": "python",
   "nbconvert_exporter": "python",
   "pygments_lexer": "ipython3",
   "version": "3.11.5"
  },
  "orig_nbformat": 4
 },
 "nbformat": 4,
 "nbformat_minor": 2
}
